{
 "cells": [
  {
   "cell_type": "code",
   "execution_count": 45,
   "metadata": {
    "collapsed": true
   },
   "outputs": [],
   "source": [
    "\"\"\"\n",
    "chapter 4\n",
    "\"\"\"\n",
    "\n",
    "# import libs \n",
    "\n",
    "import pandas as pd  \n",
    "import numpy as np\n",
    "import matplotlib.pyplot as plt\n",
    "from io import StringIO\n",
    "\n",
    "from sklearn.linear_model import LogisticRegression\n",
    "\n",
    "from sklearn.preprocessing import Imputer \n",
    "from sklearn.preprocessing import LabelEncoder  \n",
    "from sklearn.preprocessing import OneHotEncoder\n",
    "from sklearn.preprocessing import MinMaxScaler\n",
    "from sklearn.preprocessing import StandardScaler"
   ]
  },
  {
   "cell_type": "code",
   "execution_count": 3,
   "metadata": {
    "collapsed": false
   },
   "outputs": [
    {
     "data": {
      "text/html": [
       "<div>\n",
       "<table border=\"1\" class=\"dataframe\">\n",
       "  <thead>\n",
       "    <tr style=\"text-align: right;\">\n",
       "      <th></th>\n",
       "      <th>A</th>\n",
       "      <th>B</th>\n",
       "      <th>C</th>\n",
       "      <th>D</th>\n",
       "    </tr>\n",
       "  </thead>\n",
       "  <tbody>\n",
       "    <tr>\n",
       "      <th>0</th>\n",
       "      <td>1.0</td>\n",
       "      <td>2.0</td>\n",
       "      <td>3.0</td>\n",
       "      <td>4.0</td>\n",
       "    </tr>\n",
       "    <tr>\n",
       "      <th>1</th>\n",
       "      <td>5.0</td>\n",
       "      <td>6.0</td>\n",
       "      <td>NaN</td>\n",
       "      <td>8.0</td>\n",
       "    </tr>\n",
       "    <tr>\n",
       "      <th>2</th>\n",
       "      <td>0.0</td>\n",
       "      <td>11.0</td>\n",
       "      <td>12.0</td>\n",
       "      <td>NaN</td>\n",
       "    </tr>\n",
       "  </tbody>\n",
       "</table>\n",
       "</div>"
      ],
      "text/plain": [
       "     A     B     C    D\n",
       "0  1.0   2.0   3.0  4.0\n",
       "1  5.0   6.0   NaN  8.0\n",
       "2  0.0  11.0  12.0  NaN"
      ]
     },
     "execution_count": 3,
     "metadata": {},
     "output_type": "execute_result"
    }
   ],
   "source": [
    "# -------------- CSV: comma-separated values --------------------\n",
    "csv_data = '''A,B,C,D\n",
    "1.0,2.0,3.0,4.0\n",
    "5.0,6.0,,8.0\n",
    "0.0,11.0,12.0,'''\n",
    "\n",
    "# read CSV-formatted data into a pd DataFrame\n",
    "df = pd.read_csv(StringIO(csv_data))\n",
    "df\n",
    "# missing cells replaced by NaN  "
   ]
  },
  {
   "cell_type": "code",
   "execution_count": 5,
   "metadata": {
    "collapsed": false
   },
   "outputs": [
    {
     "data": {
      "text/plain": [
       "array([[  1.,   2.,   3.,   4.],\n",
       "       [  5.,   6.,  nan,   8.],\n",
       "       [  0.,  11.,  12.,  nan]])"
      ]
     },
     "execution_count": 5,
     "metadata": {},
     "output_type": "execute_result"
    }
   ],
   "source": [
    "# mumber of missing values per column \n",
    "df.isnull().sum()\n",
    "\n",
    "# access the underlying np array of teh DataFrame\n",
    "df.values "
   ]
  },
  {
   "cell_type": "code",
   "execution_count": 17,
   "metadata": {
    "collapsed": false
   },
   "outputs": [
    {
     "name": "stdout",
     "output_type": "stream",
     "text": [
      "     A    B    C    D\n",
      "0  1.0  2.0  3.0  4.0\n",
      "     A     B\n",
      "0  1.0   2.0\n",
      "1  5.0   6.0\n",
      "2  0.0  11.0\n",
      "     A     B     C    D\n",
      "0  1.0   2.0   3.0  4.0\n",
      "1  5.0   6.0   NaN  8.0\n",
      "2  0.0  11.0  12.0  NaN\n",
      "     A    B    C    D\n",
      "0  1.0  2.0  3.0  4.0\n",
      "     A     B     C    D\n",
      "0  1.0   2.0   3.0  4.0\n",
      "2  0.0  11.0  12.0  NaN\n",
      "[[  1.   2.   3.   4.]\n",
      " [  5.   6.  nan   8.]\n",
      " [  0.  11.  12.  nan]] \n",
      "\n",
      " [[  1.    2.    3.    4. ]\n",
      " [  5.    6.    7.5   8. ]\n",
      " [  0.   11.   12.    6. ]]\n",
      "\n",
      "\n",
      " [[  1.    2.    3.    4. ]\n",
      " [  5.    6.    7.5   8. ]\n",
      " [  0.   11.   12.    6. ]]\n",
      "\n",
      "\n",
      " [[  1.   2.   3.   4.]\n",
      " [  5.   6.   3.   8.]\n",
      " [  0.  11.  12.   4.]]\n"
     ]
    }
   ],
   "source": [
    "# --------------- handle missing value --------------\n",
    "\n",
    "# ----------------- remove missing values --------------\n",
    "# remove rows with missing values \n",
    "print(df.dropna())\n",
    "\n",
    "# drop columns that have at least one NaN \n",
    "print(df.dropna(axis=1))\n",
    "\n",
    "# only drop rows where all columns are NaN \n",
    "print(df.dropna(how='all'))\n",
    "\n",
    "# drop rows tht have not at least 4 non_NaN values \n",
    "print(df.dropna(thresh=4))\n",
    "\n",
    "# only drop rows where NaN appear in specific columns \n",
    "print(df.dropna(subset=['C']))\n",
    "\n",
    "# ----------------- imputation ---------------------\n",
    "\n",
    "# ------------ mean imputation ---------------------\n",
    "\n",
    "# calculated for each feature column\n",
    "# axis=0 based on column values \n",
    "# axis=1 based on row values \n",
    "imr = Imputer(missing_values='NaN', strategy='mean', axis=0)    \n",
    "imr = imr.fit(df)\n",
    "imputed_data = imr.transform(df.values)\n",
    "print(df.values, '\\n'*2,  imputed_data)\n",
    "\n",
    "# --------- median imputation ----------\n",
    "imr = Imputer(missing_values='NaN', strategy='median', axis=0)    \n",
    "imr = imr.fit(df)\n",
    "imputed_data = imr.transform(df.values)\n",
    "print('\\n'*2,  imputed_data)\n",
    "\n",
    "# --------- most_frequent imputation ---------\n",
    "imr = Imputer(missing_values='NaN', strategy='most_frequent', axis=0)    \n",
    "imr = imr.fit(df)\n",
    "imputed_data = imr.transform(df.values)\n",
    "print('\\n'*2,  imputed_data)"
   ]
  },
  {
   "cell_type": "code",
   "execution_count": 26,
   "metadata": {
    "collapsed": false
   },
   "outputs": [
    {
     "name": "stdout",
     "output_type": "stream",
     "text": [
      "   color size  price classlabel\n",
      "0  green    M   10.1     class1\n",
      "1    red    L   13.5     class2\n",
      "2   blue   XL   15.3     class1\n",
      "   color  size  price classlabel\n",
      "0  green     1   10.1     class1\n",
      "1    red     2   13.5     class2\n",
      "2   blue     3   15.3     class1\n",
      "   color  size  price  classlabel\n",
      "0  green     1   10.1           0\n",
      "1    red     2   13.5           1\n",
      "2   blue     3   15.3           0\n"
     ]
    },
    {
     "data": {
      "text/plain": [
       "array([[  0. ,   1. ,   0. ,   1. ,  10.1],\n",
       "       [  0. ,   0. ,   1. ,   2. ,  13.5],\n",
       "       [  1. ,   0. ,   0. ,   3. ,  15.3]])"
      ]
     },
     "execution_count": 26,
     "metadata": {},
     "output_type": "execute_result"
    }
   ],
   "source": [
    "# ------------- handle categorical data -----------\n",
    "df = pd.DataFrame([\n",
    "            ['green', 'M', 10.1, 'class1'], \n",
    "            ['red', 'L', 13.5, 'class2'], \n",
    "            ['blue', 'XL', 15.3, 'class1']])\n",
    "df.columns = ['color', 'size', 'price', 'classlabel']\n",
    "print(df)\n",
    "\n",
    "# --------- mapping ordinal features -------------\n",
    "size_mapping = {\n",
    "    'XL': 3,\n",
    "    'L': 2,\n",
    "    'M': 1\n",
    "}\n",
    "\n",
    "df['size'] = df['size'].map(size_mapping)\n",
    "print(df)\n",
    "\n",
    "'''\n",
    "# transform the integer values back to the original string  \n",
    "inv_size_mapping = {v:k for k,v in size_mapping.items()}\n",
    "df['size'] = df['size'].map(inv_size_mapping)\n",
    "print(df)\n",
    "'''\n",
    "\n",
    "# --------------- encoding class labels --------------------\n",
    "class_mapping = {label:idx for idx,label in\n",
    "                 enumerate(np.unique(df['classlabel']))}\n",
    "\n",
    "df['classlabel'] = df['classlabel'].map(class_mapping)\n",
    "print(df) \n",
    "\n",
    "'''\n",
    "# use scikit-learn method directly \n",
    "class_le = LabelEncoder()\n",
    "y = class_le.fit_transform(df['classlabel'].values)\n",
    "\n",
    "# transform the integer class label back into their original string representation \n",
    "class_le.inverse_transform(y)\n",
    "'''\n",
    "\n",
    "# ------------ one hot encoding ------------------------\n",
    "X = df[['color', 'size', 'price']].values\n",
    "color_le = LabelEncoder()\n",
    "# color: blue->0; green->1; red->2\n",
    "X[:, 0] = color_le.fit_transform(X[:, 0])\n",
    "\n",
    "ohe = OneHotEncoder(categorical_features=[0])\n",
    "ohe.fit_transform(X).toarray()\n",
    "\n",
    "'''\n",
    "# another way: one hot encoding \n",
    "# --> only convert string columns and leave all other columns  unchanged \n",
    "pd.get_dummies(df[['price', 'color', 'size']])\n",
    "'''"
   ]
  },
  {
   "cell_type": "code",
   "execution_count": 41,
   "metadata": {
    "collapsed": false
   },
   "outputs": [
    {
     "name": "stdout",
     "output_type": "stream",
     "text": [
      "Class labels [1 2 3]\n",
      "df_wine.head: \n",
      "    Class label  Alcohol  Malic acid   Ash  Alcalinity of ash  Magnesium  \\\n",
      "0            1    14.23        1.71  2.43               15.6        127   \n",
      "1            1    13.20        1.78  2.14               11.2        100   \n",
      "2            1    13.16        2.36  2.67               18.6        101   \n",
      "3            1    14.37        1.95  2.50               16.8        113   \n",
      "4            1    13.24        2.59  2.87               21.0        118   \n",
      "\n",
      "   Total phenols  Flavanoids  Nonflavanoid phenols  Proanthocyanins  \\\n",
      "0           2.80        3.06                  0.28             2.29   \n",
      "1           2.65        2.76                  0.26             1.28   \n",
      "2           2.80        3.24                  0.30             2.81   \n",
      "3           3.85        3.49                  0.24             2.18   \n",
      "4           2.80        2.69                  0.39             1.82   \n",
      "\n",
      "   Color intensity   Hue  OD280/OD315 of diluted wines  Proline  \n",
      "0             5.64  1.04                          3.92     1065  \n",
      "1             4.38  1.05                          3.40     1050  \n",
      "2             5.68  1.03                          3.17     1185  \n",
      "3             7.80  0.86                          3.45     1480  \n",
      "4             4.32  1.04                          2.93      735  \n"
     ]
    },
    {
     "data": {
      "text/plain": [
       "\"\\nprint('X_test_norm', '\\t\\t\\t', 'X_test_std')\\nfor n,s in zip(X_test_norm, X_test_std):\\n    print(n, '\\t', s)\\n\""
      ]
     },
     "execution_count": 41,
     "metadata": {},
     "output_type": "execute_result"
    }
   ],
   "source": [
    "# ----------------- feature scaling ------------------------\n",
    "\n",
    "\n",
    "# import dataset \n",
    "from sklearn.model_selection import train_test_split\n",
    "\n",
    "df_wine = pd.read_csv('https://archive.ics.uci.edu/ml/machine-learning-databases/wine/wine.data', header=None)\n",
    "df_wine.columns = ['Class label', 'Alcohol', \n",
    "                   'Malic acid', 'Ash', \n",
    "                   'Alcalinity of ash', 'Magnesium', \n",
    "                   'Total phenols', 'Flavanoids',\n",
    "                   'Nonflavanoid phenols', \n",
    "                   'Proanthocyanins', \n",
    "                   'Color intensity', 'Hue', \n",
    "                   'OD280/OD315 of diluted wines', \n",
    "                   'Proline']\n",
    "print('Class labels', np.unique(df_wine['Class label']))\n",
    "\n",
    "print('df_wine.head: \\n', df_wine.head())\n",
    "\n",
    "X, y = df_wine.iloc[:, 1:].values, df_wine.iloc[:, 0].values\n",
    "X_train, X_test, y_train, y_test = train_test_split(X, y, test_size=0.3, random_state=0)\n",
    "\n",
    "# ------------- normalization --------------------\n",
    "# Transforms features by scaling each feature to a given range.\n",
    "# This estimator scales and translates each feature individually \n",
    "# such that it is in the given range on the training set\n",
    "mms = MinMaxScaler(feature_range=(0,1))\n",
    "X_train_norm = mms.fit_transform(X_train)\n",
    "X_test_norm = mms.transform(X_test)\n",
    "# print(X_test_norm)\n",
    "\n",
    "\n",
    "# ----------- standardizaton ----------------------\n",
    "# Standardize features by removing the mean and scaling to unit variance\n",
    "# Centering and scaling happen independently on each feature by computing the relevant statistics on the samples in the training set. \n",
    "# Mean and standard deviation are then stored to be used on later data using the transform method.\n",
    "stdsc = StandardScaler()\n",
    "# fit the StandardScaler only once on the trining data \n",
    "# use hte prameters to transform the test set or any new data point  \n",
    "X_train_std = stdsc.fit_transform(X_train)\n",
    "X_test_std = stdsc.transform(X_test)\n",
    "# print(X_test_std)\n",
    "\n",
    "'''\n",
    "print('X_test_norm', '\\t\\t\\t', 'X_test_std')\n",
    "for n,s in zip(X_test_norm, X_test_std):\n",
    "    print(n, '\\t', s)\n",
    "'''\n"
   ]
  },
  {
   "cell_type": "code",
   "execution_count": 49,
   "metadata": {
    "collapsed": false
   },
   "outputs": [
    {
     "data": {
      "image/png": "[encoded data removed]",
      "text/plain": [
       "<matplotlib.figure.Figure at 0x1b03a2aae10>"
      ]
     },
     "metadata": {},
     "output_type": "display_data"
    }
   ],
   "source": [
    "# -------------- feature reduction --------------------------\n",
    "# L1 penalty \n",
    "# plot the regularization path: \n",
    "# the weight coefficients of the different features for different regularization strengths\n",
    "\n",
    "fig = plt.figure()\n",
    "ax = plt.subplot(111)    # \"1x1 grid, first subplot\"\n",
    "\n",
    "colors = ['blue', 'green', 'red', 'cyan', \n",
    "         'magenta', 'yellow', 'black', \n",
    "         'pink', 'lightgreen', 'lightblue', \n",
    "         'gray', 'indigo', 'orange']\n",
    "\n",
    "weights, params = [], []\n",
    "for c in range(-4, 6):\n",
    "    lr = LogisticRegression(penalty='l1', C=10**c, random_state=0)\n",
    "    lr.fit(X_train_std, y_train)\n",
    "    weights.append(lr.coef_[1])\n",
    "    params.append(10**c)\n",
    "weights = np.array(weights)\n",
    "\n",
    "for column, color in zip(range(weights.shape[1]), colors):\n",
    "    plt.plot(params, weights[:, column], label=df_wine.columns[column+1], color=color)\n",
    "\n",
    "plt.axhline(0, color='black', linestyle='--', linewidth=3)\n",
    "plt.xlim([10**(-5), 10**5])\n",
    "plt.ylabel('weight coefficient')\n",
    "plt.xlabel('C')\n",
    "plt.xscale('log')\n",
    "plt.legend(loc='upper left')\n",
    "ax.legend(loc='upper center', bbox_to_anchor=(1.38, 1.03), ncol=1, fancybox=True)\n",
    "plt.show()\n",
    "\n",
    "# all features weights will be zero if we penalize the \n",
    "# model with a strong regularization parameter ( 0.1 C < ); \n",
    "# C is the inverse of the regularization parameter λ"
   ]
  },
  {
   "cell_type": "code",
   "execution_count": null,
   "metadata": {
    "collapsed": true
   },
   "outputs": [],
   "source": []
  }
 ],
 "metadata": {
  "kernelspec": {
   "display_name": "Python 3",
   "language": "python",
   "name": "python3"
  },
  "language_info": {
   "codemirror_mode": {
    "name": "ipython",
    "version": 3
   },
   "file_extension": ".py",
   "mimetype": "text/x-python",
   "name": "python",
   "nbconvert_exporter": "python",
   "pygments_lexer": "ipython3",
   "version": "3.6.0"
  }
 },
 "nbformat": 4,
 "nbformat_minor": 2
}
