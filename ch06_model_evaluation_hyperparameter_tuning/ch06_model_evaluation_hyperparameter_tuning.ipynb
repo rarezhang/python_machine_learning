{
 "cells": [
  {
   "cell_type": "code",
   "execution_count": 7,
   "metadata": {
    "collapsed": true
   },
   "outputs": [],
   "source": [
    "\"\"\"\n",
    "chapter 06\n",
    "\"\"\"\n",
    "\n",
    "# import libs\n",
    "\n",
    "import pandas as pd \n",
    "import numpy as np \n",
    "\n",
    "from sklearn.preprocessing import LabelEncoder, StandardScaler\n",
    "from sklearn.model_selection import train_test_split, StratifiedKFold, cross_val_score \n",
    "\n",
    "from sklearn.decomposition import PCA\n",
    "from sklearn.linear_model import LogisticRegression\n",
    "from sklearn.pipeline import Pipeline"
   ]
  },
  {
   "cell_type": "code",
   "execution_count": 2,
   "metadata": {
    "collapsed": false
   },
   "outputs": [
    {
     "name": "stdout",
     "output_type": "stream",
     "text": [
      "label encoding: [1 0]\n"
     ]
    }
   ],
   "source": [
    "# import dataset \n",
    "# the breast canser wisconsin dataset  \n",
    "\n",
    "# read in the dataset from the UCI website \n",
    "df = pd.read_csv('https://archive.ics.uci.edu/ml/machine-learning-databases/breast-cancer-wisconsin/wdbc.data', header=None)\n",
    "\n",
    "# label encoding \n",
    "X = df.loc[:, 2:].values\n",
    "y = df.loc[:, 1].values\n",
    "le = LabelEncoder()\n",
    "y = le.fit_transform(y)\n",
    "# malignant tumors: class 1; # benign tumors: class 0\n",
    "print('label encoding:', le.transform(['M', 'B']))\n",
    "\n",
    "# divide the dataset into a separate training dataset\n",
    "# training 80%; test 20%\n",
    "X_train, X_test, y_train, y_test = train_test_split(X, y, test_size=0.20, random_state=1)"
   ]
  },
  {
   "cell_type": "code",
   "execution_count": 3,
   "metadata": {
    "collapsed": false
   },
   "outputs": [
    {
     "name": "stdout",
     "output_type": "stream",
     "text": [
      "Test Accuracy: 0.947\n"
     ]
    }
   ],
   "source": [
    "# combine transformers and esitimators in a pipeline \n",
    "# sklearn pipeline\n",
    "\n",
    "# pipeline logistic regression \n",
    "# take a list of tuples as input: \n",
    "# first value: arbitrary identifier string --> to access the individual elements \n",
    "# second element: scikit-learn obj \n",
    "pipe_lr = Pipeline([('scl', StandardScaler()), # standardize the columns \n",
    "                    ('pca', PCA(n_components=2)), # compress data onto 2d subspace \n",
    "                    ('clf', LogisticRegression(random_state=1))]) # logistic regression\n",
    "\n",
    "pipe_lr.fit(X_train, y_train)\n",
    "print('Test Accuracy: %.3f' % pipe_lr.score(X_test, y_test))"
   ]
  },
  {
   "cell_type": "code",
   "execution_count": 5,
   "metadata": {
    "collapsed": false
   },
   "outputs": [
    {
     "name": "stdout",
     "output_type": "stream",
     "text": [
      "Class dist.: [256 153], Acc: 0.891\n",
      "Class dist.: [256 153], Acc: 0.978\n",
      "Class dist.: [256 153], Acc: 0.978\n",
      "Class dist.: [256 153], Acc: 0.913\n",
      "Class dist.: [256 153], Acc: 0.935\n",
      "Class dist.: [257 153], Acc: 0.978\n",
      "Class dist.: [257 153], Acc: 0.933\n",
      "Class dist.: [257 153], Acc: 0.956\n",
      "Class dist.: [257 153], Acc: 0.978\n",
      "Class dist.: [257 153], Acc: 0.956\n",
      "\n",
      "CV accuracy: 0.950 +/- 0.029\n"
     ]
    }
   ],
   "source": [
    "# Stratified KFold \n",
    "kfold = StratifiedKFold(n_splits=10, random_state=1).split(X_train, y_train)\n",
    "\n",
    "scores = []\n",
    "for train, test in kfold:\n",
    "    pipe_lr.fit(X_train[train], y_train[train])\n",
    "    score = pipe_lr.score(X_train[test], y_train[test])\n",
    "    scores.append(score)\n",
    "    print('Class dist.: %s, Acc: %.3f' % (np.bincount(y_train[train]), score))\n",
    "    \n",
    "print('\\nCV accuracy: %.3f +/- %.3f' % (np.mean(scores), np.std(scores)))   "
   ]
  },
  {
   "cell_type": "code",
   "execution_count": 8,
   "metadata": {
    "collapsed": false
   },
   "outputs": [
    {
     "name": "stdout",
     "output_type": "stream",
     "text": [
      "CV accuracy scores: [ 0.89130435  0.97826087  0.97826087  0.91304348  0.93478261  0.97777778\n",
      "  0.93333333  0.95555556  0.97777778  0.95555556]\n",
      "\n",
      "CV accuracy: 0.950 +/- 0.029\n"
     ]
    }
   ],
   "source": [
    "# cross validtion score \n",
    "# note: scoring parameters: http://scikit-learn.org/stable/modules/model_evaluation.html#scoring-parameter\n",
    "scores = cross_val_score(estimator=pipe_lr, scoring='accuracy', X=X_train, y=y_train, cv=10, n_jobs=1)\n",
    "print('CV accuracy scores: %s' % scores)\n",
    "print('\\nCV accuracy: %.3f +/- %.3f' % (np.mean(scores), np.std(scores)))"
   ]
  },
  {
   "cell_type": "code",
   "execution_count": null,
   "metadata": {
    "collapsed": true
   },
   "outputs": [],
   "source": []
  }
 ],
 "metadata": {
  "kernelspec": {
   "display_name": "Python 3",
   "language": "python",
   "name": "python3"
  },
  "language_info": {
   "codemirror_mode": {
    "name": "ipython",
    "version": 3
   },
   "file_extension": ".py",
   "mimetype": "text/x-python",
   "name": "python",
   "nbconvert_exporter": "python",
   "pygments_lexer": "ipython3",
   "version": "3.6.0"
  }
 },
 "nbformat": 4,
 "nbformat_minor": 2
}
